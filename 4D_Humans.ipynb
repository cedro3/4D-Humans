{
  "cells": [
    {
      "cell_type": "markdown",
      "metadata": {
        "id": "view-in-github",
        "colab_type": "text"
      },
      "source": [
        "<a href=\"https://colab.research.google.com/github/cedro3/4D-Humans/blob/main/4D_Humans.ipynb\" target=\"_parent\"><img src=\"https://colab.research.google.com/assets/colab-badge.svg\" alt=\"Open In Colab\"/></a>"
      ]
    },
    {
      "cell_type": "code",
      "execution_count": null,
      "metadata": {
        "id": "nHlxjgrdtePu"
      },
      "outputs": [],
      "source": [
        "#@title Set up\n",
        "\n",
        "# Clone the main repo\n",
        "! git clone https://github.com/cedro3/4D-Humans.git 4D-Humans\n",
        "%cd 4D-Humans\n",
        "\n",
        "# install library\n",
        "!pip install torch\n",
        "!pip install -e .[all]\n",
        "!pip install git+https://github.com/brjathu/PHALP.git\n",
        "\n",
        "# define function\n",
        "import os\n",
        "import shutil\n",
        "def reset_folder(path):\n",
        "    if os.path.isdir(path):\n",
        "      shutil.rmtree(path)\n",
        "    os.makedirs(path,exist_ok=True)"
      ]
    },
    {
      "cell_type": "code",
      "execution_count": null,
      "metadata": {
        "id": "jpu-yVB0vw1N"
      },
      "outputs": [],
      "source": [
        "#@title 4DHumans for picture\n",
        "import shutil\n",
        "\n",
        "# setting\n",
        "reset_folder('demo_in')\n",
        "reset_folder('demo_out')\n",
        "pic = 'pexels-anete-lusina-4793258.jpg'#@param {type:\"string\"}\n",
        "shutil.copy('example_data/images/'+pic, 'demo_in/'+pic)\n",
        "\n",
        "# run\n",
        "!python demo.py \\\n",
        "--img_folder demo_in \\\n",
        "--out_folder demo_out \\\n",
        "--batch_size=48 --side_view"
      ]
    },
    {
      "cell_type": "code",
      "execution_count": null,
      "metadata": {
        "id": "5L3jrsbLwme3"
      },
      "outputs": [],
      "source": [
        "#@title display picture\n",
        "\n",
        "from IPython.display import Image, display\n",
        "import os\n",
        "# https://colab.research.google.com/drive/1Ex4gE5v1bPR3evfhtG7sDHxQGsWwNwby?usp=sharing\n",
        "output_images = [\"demo_out/\" + i for i in os.listdir(\"demo_out/\") if \".png\" in i]\n",
        "for img in output_images:\n",
        "  display(Image(img))\n",
        "\n"
      ]
    },
    {
      "cell_type": "code",
      "execution_count": null,
      "metadata": {
        "id": "XgkRdPF6yTBC"
      },
      "outputs": [],
      "source": [
        "#@title 4DHumans for video\n",
        "\n",
        "# setting\n",
        "reset_folder('outputs')\n",
        "\n",
        "# run\n",
        "!python track.py video.source='example_data/videos/backflip.mp4'"
      ]
    },
    {
      "cell_type": "code",
      "source": [
        "#@title play video\n",
        "\n",
        "from IPython.display import Video, display\n",
        "import os\n",
        "\n",
        "# reencoding\n",
        "output_videos = [\"outputs/\" + i for i in os.listdir(\"outputs/\") if \".mp4\" in i]\n",
        "video_path=output_videos[0]\n",
        "! ffmpeg -y -i $video_path -loglevel error output.mp4\n",
        "\n",
        "# play\n",
        "display(Video('output.mp4', embed=True))"
      ],
      "metadata": {
        "id": "U3EcP3LQWg8s"
      },
      "execution_count": null,
      "outputs": []
    }
  ],
  "metadata": {
    "accelerator": "GPU",
    "colab": {
      "collapsed_sections": [
        "5Grc-NDsvJ2d",
        "DVSxpGVrePtl"
      ],
      "provenance": [],
      "gpuType": "T4",
      "include_colab_link": true
    },
    "kernelspec": {
      "display_name": "Python 3",
      "name": "python3"
    },
    "language_info": {
      "name": "python"
    }
  },
  "nbformat": 4,
  "nbformat_minor": 0
}